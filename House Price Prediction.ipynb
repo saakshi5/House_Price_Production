{
 "cells": [
  {
   "cell_type": "code",
   "execution_count": 58,
   "id": "dbaf6933-319b-4e2e-b6a3-cdba67a32d54",
   "metadata": {},
   "outputs": [],
   "source": [
    "import pandas as pd\n",
    "import numpy as np\n",
    "import matplotlib.pyplot as plt\n",
    "import warnings\n",
    "warnings.filterwarnings('ignore')"
   ]
  },
  {
   "cell_type": "code",
   "execution_count": 59,
   "id": "e0c08538-84ce-4569-af52-1697041500d5",
   "metadata": {},
   "outputs": [],
   "source": [
    "df=pd.read_csv('house_prices.csv')"
   ]
  },
  {
   "cell_type": "code",
   "execution_count": 60,
   "id": "2eb956a0-8228-4ab0-8825-8a1152cea2c9",
   "metadata": {},
   "outputs": [
    {
     "data": {
      "text/html": [
       "<div>\n",
       "<style scoped>\n",
       "    .dataframe tbody tr th:only-of-type {\n",
       "        vertical-align: middle;\n",
       "    }\n",
       "\n",
       "    .dataframe tbody tr th {\n",
       "        vertical-align: top;\n",
       "    }\n",
       "\n",
       "    .dataframe thead th {\n",
       "        text-align: right;\n",
       "    }\n",
       "</style>\n",
       "<table border=\"1\" class=\"dataframe\">\n",
       "  <thead>\n",
       "    <tr style=\"text-align: right;\">\n",
       "      <th></th>\n",
       "      <th>Unnamed: 0</th>\n",
       "      <th>property_type</th>\n",
       "      <th>price</th>\n",
       "      <th>location</th>\n",
       "      <th>city</th>\n",
       "      <th>baths</th>\n",
       "      <th>purpose</th>\n",
       "      <th>bedrooms</th>\n",
       "      <th>Area_in_Marla</th>\n",
       "    </tr>\n",
       "  </thead>\n",
       "  <tbody>\n",
       "    <tr>\n",
       "      <th>0</th>\n",
       "      <td>0</td>\n",
       "      <td>Flat</td>\n",
       "      <td>10000000</td>\n",
       "      <td>G-10</td>\n",
       "      <td>Islamabad</td>\n",
       "      <td>2</td>\n",
       "      <td>For Sale</td>\n",
       "      <td>2</td>\n",
       "      <td>4.0</td>\n",
       "    </tr>\n",
       "    <tr>\n",
       "      <th>1</th>\n",
       "      <td>1</td>\n",
       "      <td>Flat</td>\n",
       "      <td>6900000</td>\n",
       "      <td>E-11</td>\n",
       "      <td>Islamabad</td>\n",
       "      <td>3</td>\n",
       "      <td>For Sale</td>\n",
       "      <td>3</td>\n",
       "      <td>5.6</td>\n",
       "    </tr>\n",
       "    <tr>\n",
       "      <th>2</th>\n",
       "      <td>2</td>\n",
       "      <td>House</td>\n",
       "      <td>16500000</td>\n",
       "      <td>G-15</td>\n",
       "      <td>Islamabad</td>\n",
       "      <td>6</td>\n",
       "      <td>For Sale</td>\n",
       "      <td>5</td>\n",
       "      <td>8.0</td>\n",
       "    </tr>\n",
       "    <tr>\n",
       "      <th>3</th>\n",
       "      <td>3</td>\n",
       "      <td>House</td>\n",
       "      <td>43500000</td>\n",
       "      <td>Bani Gala</td>\n",
       "      <td>Islamabad</td>\n",
       "      <td>4</td>\n",
       "      <td>For Sale</td>\n",
       "      <td>4</td>\n",
       "      <td>40.0</td>\n",
       "    </tr>\n",
       "    <tr>\n",
       "      <th>4</th>\n",
       "      <td>4</td>\n",
       "      <td>House</td>\n",
       "      <td>7000000</td>\n",
       "      <td>DHA Defence</td>\n",
       "      <td>Islamabad</td>\n",
       "      <td>3</td>\n",
       "      <td>For Sale</td>\n",
       "      <td>3</td>\n",
       "      <td>8.0</td>\n",
       "    </tr>\n",
       "  </tbody>\n",
       "</table>\n",
       "</div>"
      ],
      "text/plain": [
       "   Unnamed: 0 property_type     price     location       city  baths  \\\n",
       "0           0          Flat  10000000         G-10  Islamabad      2   \n",
       "1           1          Flat   6900000         E-11  Islamabad      3   \n",
       "2           2         House  16500000         G-15  Islamabad      6   \n",
       "3           3         House  43500000    Bani Gala  Islamabad      4   \n",
       "4           4         House   7000000  DHA Defence  Islamabad      3   \n",
       "\n",
       "    purpose  bedrooms  Area_in_Marla  \n",
       "0  For Sale         2            4.0  \n",
       "1  For Sale         3            5.6  \n",
       "2  For Sale         5            8.0  \n",
       "3  For Sale         4           40.0  \n",
       "4  For Sale         3            8.0  "
      ]
     },
     "execution_count": 60,
     "metadata": {},
     "output_type": "execute_result"
    }
   ],
   "source": [
    "df.head()"
   ]
  },
  {
   "cell_type": "code",
   "execution_count": 86,
   "id": "5c2fd54f-8052-4345-8ca0-f96805a4d02f",
   "metadata": {},
   "outputs": [
    {
     "name": "stdout",
     "output_type": "stream",
     "text": [
      "<class 'pandas.core.frame.DataFrame'>\n",
      "RangeIndex: 99499 entries, 0 to 99498\n",
      "Data columns (total 8 columns):\n",
      " #   Column         Non-Null Count  Dtype  \n",
      "---  ------         --------------  -----  \n",
      " 0   property_type  99499 non-null  object \n",
      " 1   price          99499 non-null  int64  \n",
      " 2   location       99499 non-null  object \n",
      " 3   city           99499 non-null  object \n",
      " 4   baths          99499 non-null  int64  \n",
      " 5   purpose        99499 non-null  object \n",
      " 6   bedrooms       99499 non-null  int64  \n",
      " 7   Area_in_Marla  99499 non-null  float64\n",
      "dtypes: float64(1), int64(3), object(4)\n",
      "memory usage: 6.1+ MB\n"
     ]
    }
   ],
   "source": [
    "# cheking more information about dataset\n",
    "df.info()"
   ]
  },
  {
   "cell_type": "code",
   "execution_count": 62,
   "id": "34c03b4a-fdb8-46c1-b329-8e50bc64d4cc",
   "metadata": {},
   "outputs": [
    {
     "data": {
      "text/plain": [
       "0        False\n",
       "1        False\n",
       "2        False\n",
       "3        False\n",
       "4        False\n",
       "         ...  \n",
       "99494    False\n",
       "99495    False\n",
       "99496    False\n",
       "99497    False\n",
       "99498    False\n",
       "Length: 99499, dtype: bool"
      ]
     },
     "execution_count": 62,
     "metadata": {},
     "output_type": "execute_result"
    }
   ],
   "source": [
    "#checking duplicate values\n",
    "df.duplicated()"
   ]
  },
  {
   "cell_type": "code",
   "execution_count": 63,
   "id": "06bedbf7-707e-4958-822b-6d7b330822d1",
   "metadata": {},
   "outputs": [
    {
     "data": {
      "text/plain": [
       "Unnamed: 0  property_type  price  location  city   baths  purpose  bedrooms  Area_in_Marla\n",
       "False       False          False  False     False  False  False    False     False            99499\n",
       "Name: count, dtype: int64"
      ]
     },
     "execution_count": 63,
     "metadata": {},
     "output_type": "execute_result"
    }
   ],
   "source": [
    "#checking null values\n",
    "df.isnull().value_counts()"
   ]
  },
  {
   "cell_type": "code",
   "execution_count": 64,
   "id": "819f42a6-b735-4b25-8378-b88a385d8351",
   "metadata": {},
   "outputs": [
    {
     "name": "stdout",
     "output_type": "stream",
     "text": [
      "Unnamed: 0\n",
      "[     0      1      2 ... 168438 168439 168445]\n",
      "----------------------------------------------------------------------------------------------------\n",
      "property_type\n",
      "['Flat' 'House' 'Penthouse' 'Lower Portion' 'Upper Portion' 'Room'\n",
      " 'Farm House']\n",
      "----------------------------------------------------------------------------------------------------\n",
      "price\n",
      "[10000000  6900000 16500000 ...  1560000  9010000  1247000]\n",
      "----------------------------------------------------------------------------------------------------\n",
      "location\n",
      "['G-10' 'E-11' 'G-15' ... 'Defence Fort' 'Sihala Valley'\n",
      " 'Shahra-e-Liaquat']\n",
      "----------------------------------------------------------------------------------------------------\n",
      "city\n",
      "['Islamabad' 'Lahore' 'Faisalabad' 'Rawalpindi' 'Karachi']\n",
      "----------------------------------------------------------------------------------------------------\n",
      "baths\n",
      "[2 3 6 4 5 1 7]\n",
      "----------------------------------------------------------------------------------------------------\n",
      "purpose\n",
      "['For Sale' 'For Rent']\n",
      "----------------------------------------------------------------------------------------------------\n",
      "bedrooms\n",
      "[2 3 5 4 1 6 0]\n",
      "----------------------------------------------------------------------------------------------------\n",
      "Area_in_Marla\n",
      "[  4.    5.6   8.   40.    6.2  20.    7.1  10.    3.1   5.    4.7  12.\n",
      "   4.3   6.7   5.3  24.   13.3  16.    9.3  11.    7.5   3.    2.5   6.\n",
      "   9.7  18.    7.    3.8   5.5  22.    2.4   4.4   2.2   8.9   3.2   9.6\n",
      "   9.8  10.2  11.4   4.8   7.6  13.2   5.2   1.3   6.1   9.1  14.   11.5\n",
      "   7.8  30.    3.7   4.2   5.8  26.   10.1  17.    2.    8.2   1.5  10.7\n",
      "   6.9   6.6   2.9   3.6   4.1  16.4  13.   12.2   5.1   9.    3.4  10.3\n",
      "   4.9  14.7  32.    7.3   8.1   2.8   3.3  36.   12.5   1.9  11.6  76.\n",
      "  14.2   6.4   5.7   1.8  60.   12.4  11.8   3.5  38.   10.9   2.7   6.5\n",
      "  15.    5.9   8.7  10.4  15.9   6.3   8.6  19.    4.5   5.4   8.3  17.3\n",
      "   1.6   2.6   1.7   7.9  11.1   8.4   4.6   3.9  11.2  13.7  10.8   0.4\n",
      "   7.2  11.7  10.5  17.8  10.6  15.6   8.5  13.4   7.4  12.1  18.7   9.5\n",
      "   2.1  28.    1.    0.5   8.8  50.   48.   80.    1.2  14.4  17.7  15.5\n",
      " 120.    2.3   9.4   1.4  12.3   9.9 100.    1.1  12.8  70.    0.9  88.\n",
      "  17.2  15.4   6.8  14.6  18.2   0.6  11.3  16.6  46.    9.2   7.7  64.\n",
      "  13.8 160.   17.5  17.6  19.1  18.6  12.7  34.  150.   15.1 108.   42.\n",
      "  12.9  52.   66.   44.   19.8  15.2  16.7  13.6  54.   14.5  72.  194.\n",
      "  13.1  16.9  11.9  12.6  18.8  17.1   0.   13.5  14.1  14.8  15.7   0.8\n",
      "  86.   18.4 110.  152.   13.9  19.2 180.   19.5  19.4  84.  176.   16.8\n",
      "  16.5  14.9  14.3   0.7  18.5   0.2  19.3  16.2  15.3 140.   19.6  68.\n",
      " 146.   16.3  62.  128.   92.  142.   96.  172.   58.   56.  122.   74. ]\n",
      "----------------------------------------------------------------------------------------------------\n"
     ]
    }
   ],
   "source": [
    "#checking unique values\n",
    "for i in df:\n",
    "    print(i)\n",
    "    print(df[i].unique())\n",
    "    print('-'*100)"
   ]
  },
  {
   "cell_type": "markdown",
   "id": "2790a1ab-237b-4914-a662-fcac031557ee",
   "metadata": {},
   "source": [
    "Unamed column is unneccesary so we drop it"
   ]
  },
  {
   "cell_type": "code",
   "execution_count": 65,
   "id": "7e76e381-797b-43bf-ada5-8df660e26820",
   "metadata": {},
   "outputs": [],
   "source": [
    "df.drop('Unnamed: 0',axis=1,inplace=True)"
   ]
  },
  {
   "cell_type": "code",
   "execution_count": 66,
   "id": "3e237c90-8dd0-4af1-a165-42d8e6ef63c0",
   "metadata": {},
   "outputs": [
    {
     "data": {
      "text/html": [
       "<div>\n",
       "<style scoped>\n",
       "    .dataframe tbody tr th:only-of-type {\n",
       "        vertical-align: middle;\n",
       "    }\n",
       "\n",
       "    .dataframe tbody tr th {\n",
       "        vertical-align: top;\n",
       "    }\n",
       "\n",
       "    .dataframe thead th {\n",
       "        text-align: right;\n",
       "    }\n",
       "</style>\n",
       "<table border=\"1\" class=\"dataframe\">\n",
       "  <thead>\n",
       "    <tr style=\"text-align: right;\">\n",
       "      <th></th>\n",
       "      <th>property_type</th>\n",
       "      <th>price</th>\n",
       "      <th>location</th>\n",
       "      <th>city</th>\n",
       "      <th>baths</th>\n",
       "      <th>purpose</th>\n",
       "      <th>bedrooms</th>\n",
       "      <th>Area_in_Marla</th>\n",
       "    </tr>\n",
       "  </thead>\n",
       "  <tbody>\n",
       "    <tr>\n",
       "      <th>0</th>\n",
       "      <td>Flat</td>\n",
       "      <td>10000000</td>\n",
       "      <td>G-10</td>\n",
       "      <td>Islamabad</td>\n",
       "      <td>2</td>\n",
       "      <td>For Sale</td>\n",
       "      <td>2</td>\n",
       "      <td>4.0</td>\n",
       "    </tr>\n",
       "    <tr>\n",
       "      <th>1</th>\n",
       "      <td>Flat</td>\n",
       "      <td>6900000</td>\n",
       "      <td>E-11</td>\n",
       "      <td>Islamabad</td>\n",
       "      <td>3</td>\n",
       "      <td>For Sale</td>\n",
       "      <td>3</td>\n",
       "      <td>5.6</td>\n",
       "    </tr>\n",
       "    <tr>\n",
       "      <th>2</th>\n",
       "      <td>House</td>\n",
       "      <td>16500000</td>\n",
       "      <td>G-15</td>\n",
       "      <td>Islamabad</td>\n",
       "      <td>6</td>\n",
       "      <td>For Sale</td>\n",
       "      <td>5</td>\n",
       "      <td>8.0</td>\n",
       "    </tr>\n",
       "    <tr>\n",
       "      <th>3</th>\n",
       "      <td>House</td>\n",
       "      <td>43500000</td>\n",
       "      <td>Bani Gala</td>\n",
       "      <td>Islamabad</td>\n",
       "      <td>4</td>\n",
       "      <td>For Sale</td>\n",
       "      <td>4</td>\n",
       "      <td>40.0</td>\n",
       "    </tr>\n",
       "    <tr>\n",
       "      <th>4</th>\n",
       "      <td>House</td>\n",
       "      <td>7000000</td>\n",
       "      <td>DHA Defence</td>\n",
       "      <td>Islamabad</td>\n",
       "      <td>3</td>\n",
       "      <td>For Sale</td>\n",
       "      <td>3</td>\n",
       "      <td>8.0</td>\n",
       "    </tr>\n",
       "  </tbody>\n",
       "</table>\n",
       "</div>"
      ],
      "text/plain": [
       "  property_type     price     location       city  baths   purpose  bedrooms  \\\n",
       "0          Flat  10000000         G-10  Islamabad      2  For Sale         2   \n",
       "1          Flat   6900000         E-11  Islamabad      3  For Sale         3   \n",
       "2         House  16500000         G-15  Islamabad      6  For Sale         5   \n",
       "3         House  43500000    Bani Gala  Islamabad      4  For Sale         4   \n",
       "4         House   7000000  DHA Defence  Islamabad      3  For Sale         3   \n",
       "\n",
       "   Area_in_Marla  \n",
       "0            4.0  \n",
       "1            5.6  \n",
       "2            8.0  \n",
       "3           40.0  \n",
       "4            8.0  "
      ]
     },
     "execution_count": 66,
     "metadata": {},
     "output_type": "execute_result"
    }
   ],
   "source": [
    "df.head(5)"
   ]
  },
  {
   "cell_type": "markdown",
   "id": "f4fe8fc8-d056-4dea-85ae-be7d7bcfb9c4",
   "metadata": {},
   "source": [
    "Exploratory Data Analysis"
   ]
  },
  {
   "cell_type": "markdown",
   "id": "d82c6701-9fa6-41fd-a266-fe9d6611ad38",
   "metadata": {},
   "source": [
    "What is the percentage of houses according to their purpose?"
   ]
  },
  {
   "cell_type": "code",
   "execution_count": 85,
   "id": "792b161b-5610-48d6-8eaf-71fafb1c953c",
   "metadata": {},
   "outputs": [
    {
     "data": {
      "image/png": "[encoded data removed]",
      "text/plain": [
       "<Figure size 640x480 with 1 Axes>"
      ]
     },
     "metadata": {},
     "output_type": "display_data"
    }
   ],
   "source": [
    "df['purpose'].value_counts().plot.pie(autopct='% 1.1f%%')\n",
    "plt.ylabel('')\n",
    "plt.show()"
   ]
  },
  {
   "cell_type": "markdown",
   "id": "1deb8aee-e64f-413e-b7a9-a3512951e33a",
   "metadata": {},
   "source": [
    "How does the price distribution vary by number of bedrooms?"
   ]
  },
  {
   "cell_type": "code",
   "execution_count": 76,
   "id": "f8f01329-bef1-49d7-925c-fc26552d6b9a",
   "metadata": {},
   "outputs": [
    {
     "data": {
      "image/png": "[encoded data removed]",
      "text/plain": [
       "<Figure size 1000x800 with 1 Axes>"
      ]
     },
     "metadata": {},
     "output_type": "display_data"
    }
   ],
   "source": [
    "plt.figure(figsize=(10, 8))\n",
    "plt.scatter(x=df['bedrooms'],y=df['price'])\n",
    "plt.xlabel('No. of Bedrooms')\n",
    "plt.ylabel('Price')\n",
    "plt.title('Price Distribution by No. of Bedrooms')\n",
    "plt.show()"
   ]
  },
  {
   "cell_type": "markdown",
   "id": "06cdb1d3-1045-4979-8c63-89313436fa18",
   "metadata": {},
   "source": [
    "How does the price distribution vary among property type?"
   ]
  },
  {
   "cell_type": "code",
   "execution_count": 71,
   "id": "61356975-031e-4a50-a8a2-92d190963ec3",
   "metadata": {},
   "outputs": [
    {
     "data": {
      "image/png": "[encoded data removed]",
      "text/plain": [
       "<Figure size 1000x800 with 1 Axes>"
      ]
     },
     "metadata": {},
     "output_type": "display_data"
    }
   ],
   "source": [
    "plt.figure(figsize=(10, 8))\n",
    "plt.scatter(x=df['property_type'],y=df['price'])\n",
    "plt.xticks(rotation=90)\n",
    "plt.xlabel('Property Type')\n",
    "plt.ylabel('Price')\n",
    "plt.title('Price Distribution by Property Type')\n",
    "plt.show()"
   ]
  },
  {
   "cell_type": "markdown",
   "id": "d2a024f5-1dd3-4fd5-98c7-078f75ee87c5",
   "metadata": {},
   "source": [
    "How does the price distribution vary by location?"
   ]
  },
  {
   "cell_type": "code",
   "execution_count": 74,
   "id": "56e0c040-4d80-401e-b32c-9a8a3fa3c21d",
   "metadata": {},
   "outputs": [
    {
     "data": {
      "image/png": "[encoded data removed]",
      "text/plain": [
       "<Figure size 1000x800 with 1 Axes>"
      ]
     },
     "metadata": {},
     "output_type": "display_data"
    }
   ],
   "source": [
    "plt.figure(figsize=(10, 8))\n",
    "plt.scatter(x=df['city'],y=df['price'])\n",
    "plt.xticks(rotation=90)\n",
    "plt.xlabel('Cities')\n",
    "plt.ylabel('Price')\n",
    "plt.title('Price Distribution by City')\n",
    "plt.show()"
   ]
  },
  {
   "cell_type": "code",
   "execution_count": null,
   "id": "e817710c-880a-4376-97a2-1046c7c915a9",
   "metadata": {},
   "outputs": [],
   "source": []
  },
  {
   "cell_type": "markdown",
   "id": "d49c127c-eceb-4073-9a3a-e649fd378a71",
   "metadata": {},
   "source": [
    "Encoding"
   ]
  },
  {
   "cell_type": "code",
   "execution_count": 16,
   "id": "9c555e4c-7617-4579-8ac7-dce7cf41e577",
   "metadata": {},
   "outputs": [],
   "source": [
    "cat_df=df.select_dtypes(['object'])"
   ]
  },
  {
   "cell_type": "code",
   "execution_count": 17,
   "id": "505d7318-4768-4c05-a695-e3223b0f1ed6",
   "metadata": {},
   "outputs": [],
   "source": [
    "num_df=df.select_dtypes(['int','float'])"
   ]
  },
  {
   "cell_type": "code",
   "execution_count": 20,
   "id": "c2717138-fe4f-47e1-a615-debdd982657b",
   "metadata": {},
   "outputs": [],
   "source": [
    "#importing libraries for label encoding\n",
    "from sklearn.preprocessing import LabelEncoder"
   ]
  },
  {
   "cell_type": "code",
   "execution_count": 21,
   "id": "2dfccaed-31e0-4329-b1e9-c4c932f3dedb",
   "metadata": {},
   "outputs": [],
   "source": [
    "le=LabelEncoder()"
   ]
  },
  {
   "cell_type": "code",
   "execution_count": 22,
   "id": "adcd9473-feab-4437-b6b3-5be386d4647a",
   "metadata": {},
   "outputs": [],
   "source": [
    "for i in cat_df:\n",
    "    cat_df[i]=le.fit_transform(cat_df[i])"
   ]
  },
  {
   "cell_type": "code",
   "execution_count": 23,
   "id": "4bee8a78-97bc-47ac-b90b-cc167adf5ef0",
   "metadata": {},
   "outputs": [
    {
     "data": {
      "text/html": [
       "<div>\n",
       "<style scoped>\n",
       "    .dataframe tbody tr th:only-of-type {\n",
       "        vertical-align: middle;\n",
       "    }\n",
       "\n",
       "    .dataframe tbody tr th {\n",
       "        vertical-align: top;\n",
       "    }\n",
       "\n",
       "    .dataframe thead th {\n",
       "        text-align: right;\n",
       "    }\n",
       "</style>\n",
       "<table border=\"1\" class=\"dataframe\">\n",
       "  <thead>\n",
       "    <tr style=\"text-align: right;\">\n",
       "      <th></th>\n",
       "      <th>property_type</th>\n",
       "      <th>location</th>\n",
       "      <th>city</th>\n",
       "      <th>purpose</th>\n",
       "    </tr>\n",
       "  </thead>\n",
       "  <tbody>\n",
       "    <tr>\n",
       "      <th>0</th>\n",
       "      <td>1</td>\n",
       "      <td>452</td>\n",
       "      <td>1</td>\n",
       "      <td>1</td>\n",
       "    </tr>\n",
       "    <tr>\n",
       "      <th>1</th>\n",
       "      <td>1</td>\n",
       "      <td>382</td>\n",
       "      <td>1</td>\n",
       "      <td>1</td>\n",
       "    </tr>\n",
       "    <tr>\n",
       "      <th>2</th>\n",
       "      <td>2</td>\n",
       "      <td>457</td>\n",
       "      <td>1</td>\n",
       "      <td>1</td>\n",
       "    </tr>\n",
       "    <tr>\n",
       "      <th>3</th>\n",
       "      <td>2</td>\n",
       "      <td>198</td>\n",
       "      <td>1</td>\n",
       "      <td>1</td>\n",
       "    </tr>\n",
       "    <tr>\n",
       "      <th>4</th>\n",
       "      <td>2</td>\n",
       "      <td>327</td>\n",
       "      <td>1</td>\n",
       "      <td>1</td>\n",
       "    </tr>\n",
       "  </tbody>\n",
       "</table>\n",
       "</div>"
      ],
      "text/plain": [
       "   property_type  location  city  purpose\n",
       "0              1       452     1        1\n",
       "1              1       382     1        1\n",
       "2              2       457     1        1\n",
       "3              2       198     1        1\n",
       "4              2       327     1        1"
      ]
     },
     "execution_count": 23,
     "metadata": {},
     "output_type": "execute_result"
    }
   ],
   "source": [
    "cat_df.head()"
   ]
  },
  {
   "cell_type": "code",
   "execution_count": 31,
   "id": "c7cf9f9f-8736-4773-827d-eb2a089b35c2",
   "metadata": {},
   "outputs": [
    {
     "data": {
      "text/plain": [
       "property_type  location  city  purpose\n",
       "2              189       2     1          3933\n",
       "               327       3     1          3547\n",
       "               188       3     1          3428\n",
       "1              189       2     1          2277\n",
       "2              190       4     1          2194\n",
       "                                          ... \n",
       "               921       3     1             1\n",
       "3              438       4     0             1\n",
       "               440       4     0             1\n",
       "               451       4     0             1\n",
       "0              2         1     0             1\n",
       "Name: count, Length: 3108, dtype: int64"
      ]
     },
     "execution_count": 31,
     "metadata": {},
     "output_type": "execute_result"
    }
   ],
   "source": [
    "cat_df.value_counts()"
   ]
  },
  {
   "cell_type": "code",
   "execution_count": 32,
   "id": "23065880-487e-43aa-909b-fcba673d9662",
   "metadata": {},
   "outputs": [
    {
     "data": {
      "text/html": [
       "<div>\n",
       "<style scoped>\n",
       "    .dataframe tbody tr th:only-of-type {\n",
       "        vertical-align: middle;\n",
       "    }\n",
       "\n",
       "    .dataframe tbody tr th {\n",
       "        vertical-align: top;\n",
       "    }\n",
       "\n",
       "    .dataframe thead th {\n",
       "        text-align: right;\n",
       "    }\n",
       "</style>\n",
       "<table border=\"1\" class=\"dataframe\">\n",
       "  <thead>\n",
       "    <tr style=\"text-align: right;\">\n",
       "      <th></th>\n",
       "      <th>price</th>\n",
       "      <th>baths</th>\n",
       "      <th>bedrooms</th>\n",
       "      <th>Area_in_Marla</th>\n",
       "    </tr>\n",
       "  </thead>\n",
       "  <tbody>\n",
       "    <tr>\n",
       "      <th>0</th>\n",
       "      <td>10000000</td>\n",
       "      <td>2</td>\n",
       "      <td>2</td>\n",
       "      <td>4.0</td>\n",
       "    </tr>\n",
       "    <tr>\n",
       "      <th>1</th>\n",
       "      <td>6900000</td>\n",
       "      <td>3</td>\n",
       "      <td>3</td>\n",
       "      <td>5.6</td>\n",
       "    </tr>\n",
       "    <tr>\n",
       "      <th>2</th>\n",
       "      <td>16500000</td>\n",
       "      <td>6</td>\n",
       "      <td>5</td>\n",
       "      <td>8.0</td>\n",
       "    </tr>\n",
       "    <tr>\n",
       "      <th>3</th>\n",
       "      <td>43500000</td>\n",
       "      <td>4</td>\n",
       "      <td>4</td>\n",
       "      <td>40.0</td>\n",
       "    </tr>\n",
       "    <tr>\n",
       "      <th>4</th>\n",
       "      <td>7000000</td>\n",
       "      <td>3</td>\n",
       "      <td>3</td>\n",
       "      <td>8.0</td>\n",
       "    </tr>\n",
       "  </tbody>\n",
       "</table>\n",
       "</div>"
      ],
      "text/plain": [
       "      price  baths  bedrooms  Area_in_Marla\n",
       "0  10000000      2         2            4.0\n",
       "1   6900000      3         3            5.6\n",
       "2  16500000      6         5            8.0\n",
       "3  43500000      4         4           40.0\n",
       "4   7000000      3         3            8.0"
      ]
     },
     "execution_count": 32,
     "metadata": {},
     "output_type": "execute_result"
    }
   ],
   "source": [
    "num_df.head()"
   ]
  },
  {
   "cell_type": "code",
   "execution_count": 34,
   "id": "ec34548a-b2b9-4d18-a682-14f85d1b3344",
   "metadata": {},
   "outputs": [],
   "source": [
    "df=pd.concat([cat_df,num_df],axis=1)"
   ]
  },
  {
   "cell_type": "code",
   "execution_count": 35,
   "id": "95a89e16-e395-4b20-b20c-9e56b62e4ff5",
   "metadata": {},
   "outputs": [
    {
     "data": {
      "text/html": [
       "<div>\n",
       "<style scoped>\n",
       "    .dataframe tbody tr th:only-of-type {\n",
       "        vertical-align: middle;\n",
       "    }\n",
       "\n",
       "    .dataframe tbody tr th {\n",
       "        vertical-align: top;\n",
       "    }\n",
       "\n",
       "    .dataframe thead th {\n",
       "        text-align: right;\n",
       "    }\n",
       "</style>\n",
       "<table border=\"1\" class=\"dataframe\">\n",
       "  <thead>\n",
       "    <tr style=\"text-align: right;\">\n",
       "      <th></th>\n",
       "      <th>property_type</th>\n",
       "      <th>location</th>\n",
       "      <th>city</th>\n",
       "      <th>purpose</th>\n",
       "      <th>price</th>\n",
       "      <th>baths</th>\n",
       "      <th>bedrooms</th>\n",
       "      <th>Area_in_Marla</th>\n",
       "    </tr>\n",
       "  </thead>\n",
       "  <tbody>\n",
       "    <tr>\n",
       "      <th>0</th>\n",
       "      <td>1</td>\n",
       "      <td>452</td>\n",
       "      <td>1</td>\n",
       "      <td>1</td>\n",
       "      <td>10000000</td>\n",
       "      <td>2</td>\n",
       "      <td>2</td>\n",
       "      <td>4.0</td>\n",
       "    </tr>\n",
       "    <tr>\n",
       "      <th>1</th>\n",
       "      <td>1</td>\n",
       "      <td>382</td>\n",
       "      <td>1</td>\n",
       "      <td>1</td>\n",
       "      <td>6900000</td>\n",
       "      <td>3</td>\n",
       "      <td>3</td>\n",
       "      <td>5.6</td>\n",
       "    </tr>\n",
       "    <tr>\n",
       "      <th>2</th>\n",
       "      <td>2</td>\n",
       "      <td>457</td>\n",
       "      <td>1</td>\n",
       "      <td>1</td>\n",
       "      <td>16500000</td>\n",
       "      <td>6</td>\n",
       "      <td>5</td>\n",
       "      <td>8.0</td>\n",
       "    </tr>\n",
       "    <tr>\n",
       "      <th>3</th>\n",
       "      <td>2</td>\n",
       "      <td>198</td>\n",
       "      <td>1</td>\n",
       "      <td>1</td>\n",
       "      <td>43500000</td>\n",
       "      <td>4</td>\n",
       "      <td>4</td>\n",
       "      <td>40.0</td>\n",
       "    </tr>\n",
       "    <tr>\n",
       "      <th>4</th>\n",
       "      <td>2</td>\n",
       "      <td>327</td>\n",
       "      <td>1</td>\n",
       "      <td>1</td>\n",
       "      <td>7000000</td>\n",
       "      <td>3</td>\n",
       "      <td>3</td>\n",
       "      <td>8.0</td>\n",
       "    </tr>\n",
       "  </tbody>\n",
       "</table>\n",
       "</div>"
      ],
      "text/plain": [
       "   property_type  location  city  purpose     price  baths  bedrooms  \\\n",
       "0              1       452     1        1  10000000      2         2   \n",
       "1              1       382     1        1   6900000      3         3   \n",
       "2              2       457     1        1  16500000      6         5   \n",
       "3              2       198     1        1  43500000      4         4   \n",
       "4              2       327     1        1   7000000      3         3   \n",
       "\n",
       "   Area_in_Marla  \n",
       "0            4.0  \n",
       "1            5.6  \n",
       "2            8.0  \n",
       "3           40.0  \n",
       "4            8.0  "
      ]
     },
     "execution_count": 35,
     "metadata": {},
     "output_type": "execute_result"
    }
   ],
   "source": [
    "df.head()"
   ]
  },
  {
   "cell_type": "code",
   "execution_count": 38,
   "id": "2262bdd0-a506-4f61-8c8a-75b008ca7905",
   "metadata": {},
   "outputs": [
    {
     "data": {
      "text/html": [
       "<div>\n",
       "<style scoped>\n",
       "    .dataframe tbody tr th:only-of-type {\n",
       "        vertical-align: middle;\n",
       "    }\n",
       "\n",
       "    .dataframe tbody tr th {\n",
       "        vertical-align: top;\n",
       "    }\n",
       "\n",
       "    .dataframe thead th {\n",
       "        text-align: right;\n",
       "    }\n",
       "</style>\n",
       "<table border=\"1\" class=\"dataframe\">\n",
       "  <thead>\n",
       "    <tr style=\"text-align: right;\">\n",
       "      <th></th>\n",
       "      <th>property_type</th>\n",
       "      <th>location</th>\n",
       "      <th>city</th>\n",
       "      <th>purpose</th>\n",
       "      <th>baths</th>\n",
       "      <th>bedrooms</th>\n",
       "      <th>Area_in_Marla</th>\n",
       "    </tr>\n",
       "  </thead>\n",
       "  <tbody>\n",
       "    <tr>\n",
       "      <th>0</th>\n",
       "      <td>1</td>\n",
       "      <td>452</td>\n",
       "      <td>1</td>\n",
       "      <td>1</td>\n",
       "      <td>2</td>\n",
       "      <td>2</td>\n",
       "      <td>4.0</td>\n",
       "    </tr>\n",
       "    <tr>\n",
       "      <th>1</th>\n",
       "      <td>1</td>\n",
       "      <td>382</td>\n",
       "      <td>1</td>\n",
       "      <td>1</td>\n",
       "      <td>3</td>\n",
       "      <td>3</td>\n",
       "      <td>5.6</td>\n",
       "    </tr>\n",
       "    <tr>\n",
       "      <th>2</th>\n",
       "      <td>2</td>\n",
       "      <td>457</td>\n",
       "      <td>1</td>\n",
       "      <td>1</td>\n",
       "      <td>6</td>\n",
       "      <td>5</td>\n",
       "      <td>8.0</td>\n",
       "    </tr>\n",
       "    <tr>\n",
       "      <th>3</th>\n",
       "      <td>2</td>\n",
       "      <td>198</td>\n",
       "      <td>1</td>\n",
       "      <td>1</td>\n",
       "      <td>4</td>\n",
       "      <td>4</td>\n",
       "      <td>40.0</td>\n",
       "    </tr>\n",
       "    <tr>\n",
       "      <th>4</th>\n",
       "      <td>2</td>\n",
       "      <td>327</td>\n",
       "      <td>1</td>\n",
       "      <td>1</td>\n",
       "      <td>3</td>\n",
       "      <td>3</td>\n",
       "      <td>8.0</td>\n",
       "    </tr>\n",
       "    <tr>\n",
       "      <th>...</th>\n",
       "      <td>...</td>\n",
       "      <td>...</td>\n",
       "      <td>...</td>\n",
       "      <td>...</td>\n",
       "      <td>...</td>\n",
       "      <td>...</td>\n",
       "      <td>...</td>\n",
       "    </tr>\n",
       "    <tr>\n",
       "      <th>99494</th>\n",
       "      <td>1</td>\n",
       "      <td>189</td>\n",
       "      <td>2</td>\n",
       "      <td>1</td>\n",
       "      <td>3</td>\n",
       "      <td>3</td>\n",
       "      <td>8.0</td>\n",
       "    </tr>\n",
       "    <tr>\n",
       "      <th>99495</th>\n",
       "      <td>2</td>\n",
       "      <td>189</td>\n",
       "      <td>2</td>\n",
       "      <td>1</td>\n",
       "      <td>4</td>\n",
       "      <td>3</td>\n",
       "      <td>8.0</td>\n",
       "    </tr>\n",
       "    <tr>\n",
       "      <th>99496</th>\n",
       "      <td>2</td>\n",
       "      <td>189</td>\n",
       "      <td>2</td>\n",
       "      <td>1</td>\n",
       "      <td>3</td>\n",
       "      <td>3</td>\n",
       "      <td>8.0</td>\n",
       "    </tr>\n",
       "    <tr>\n",
       "      <th>99497</th>\n",
       "      <td>2</td>\n",
       "      <td>189</td>\n",
       "      <td>2</td>\n",
       "      <td>1</td>\n",
       "      <td>4</td>\n",
       "      <td>4</td>\n",
       "      <td>14.0</td>\n",
       "    </tr>\n",
       "    <tr>\n",
       "      <th>99498</th>\n",
       "      <td>2</td>\n",
       "      <td>189</td>\n",
       "      <td>2</td>\n",
       "      <td>1</td>\n",
       "      <td>3</td>\n",
       "      <td>3</td>\n",
       "      <td>9.4</td>\n",
       "    </tr>\n",
       "  </tbody>\n",
       "</table>\n",
       "<p>99499 rows × 7 columns</p>\n",
       "</div>"
      ],
      "text/plain": [
       "       property_type  location  city  purpose  baths  bedrooms  Area_in_Marla\n",
       "0                  1       452     1        1      2         2            4.0\n",
       "1                  1       382     1        1      3         3            5.6\n",
       "2                  2       457     1        1      6         5            8.0\n",
       "3                  2       198     1        1      4         4           40.0\n",
       "4                  2       327     1        1      3         3            8.0\n",
       "...              ...       ...   ...      ...    ...       ...            ...\n",
       "99494              1       189     2        1      3         3            8.0\n",
       "99495              2       189     2        1      4         3            8.0\n",
       "99496              2       189     2        1      3         3            8.0\n",
       "99497              2       189     2        1      4         4           14.0\n",
       "99498              2       189     2        1      3         3            9.4\n",
       "\n",
       "[99499 rows x 7 columns]"
      ]
     },
     "execution_count": 38,
     "metadata": {},
     "output_type": "execute_result"
    }
   ],
   "source": [
    "x=df.drop('price',axis=1)\n",
    "x"
   ]
  },
  {
   "cell_type": "code",
   "execution_count": 39,
   "id": "c9855a46-ba04-44be-b614-4ca1076f9990",
   "metadata": {},
   "outputs": [
    {
     "data": {
      "text/plain": [
       "0        10000000\n",
       "1         6900000\n",
       "2        16500000\n",
       "3        43500000\n",
       "4         7000000\n",
       "           ...   \n",
       "99494     7500000\n",
       "99495     8800000\n",
       "99496    14000000\n",
       "99497    14000000\n",
       "99498     9000000\n",
       "Name: price, Length: 99499, dtype: int64"
      ]
     },
     "execution_count": 39,
     "metadata": {},
     "output_type": "execute_result"
    }
   ],
   "source": [
    "y=df['price']\n",
    "y"
   ]
  },
  {
   "cell_type": "code",
   "execution_count": 46,
   "id": "12305db2-f0a3-4fd4-bfdd-7074213b15a8",
   "metadata": {},
   "outputs": [],
   "source": [
    "from sklearn.model_selection import train_test_split\n",
    "from sklearn.metrics import r2_score,classification_report"
   ]
  },
  {
   "cell_type": "code",
   "execution_count": 49,
   "id": "e2374bcf-fd8b-4a2d-b9d6-83086be6de50",
   "metadata": {},
   "outputs": [],
   "source": [
    "xtrain,xtest,ytrain,ytest=train_test_split(x,y,test_size=0.30,random_state=1)"
   ]
  },
  {
   "cell_type": "code",
   "execution_count": 50,
   "id": "eb959029-60df-4cbf-90d6-00311ed6b562",
   "metadata": {},
   "outputs": [],
   "source": [
    "from sklearn.linear_model import LinearRegression\n",
    "lr=LinearRegression()\n",
    "lr.fit(xtrain,ytrain)\n",
    "ypred=lr.predict(xtest)"
   ]
  },
  {
   "cell_type": "code",
   "execution_count": 51,
   "id": "8c05f673-4a34-47fc-884a-bad3dbf8ce1c",
   "metadata": {},
   "outputs": [
    {
     "data": {
      "text/plain": [
       "array([12896200.21823326,  1743021.00758078, 13445267.85254978, ...,\n",
       "       24037785.63062435,  9622679.59902932, 14014862.25651173])"
      ]
     },
     "execution_count": 51,
     "metadata": {},
     "output_type": "execute_result"
    }
   ],
   "source": [
    "ypred"
   ]
  },
  {
   "cell_type": "code",
   "execution_count": 52,
   "id": "3a228766-f3a8-4b64-bae9-336a73f96e5c",
   "metadata": {},
   "outputs": [
    {
     "data": {
      "text/plain": [
       "0.31909384343369407"
      ]
     },
     "execution_count": 52,
     "metadata": {},
     "output_type": "execute_result"
    }
   ],
   "source": [
    "#accuracy\n",
    "r2_score(ypred,ytest)"
   ]
  },
  {
   "cell_type": "code",
   "execution_count": 54,
   "id": "e7fd6756-1b79-4063-9a7c-096c460f0381",
   "metadata": {},
   "outputs": [
    {
     "name": "stdout",
     "output_type": "stream",
     "text": [
      "training accuracy: 0.5872806700743294\n"
     ]
    }
   ],
   "source": [
    "print(\"training accuracy:\",lr.score(xtrain,ytrain))"
   ]
  },
  {
   "cell_type": "code",
   "execution_count": 55,
   "id": "78dbd31c-2157-49f4-8967-04833eb44c93",
   "metadata": {},
   "outputs": [
    {
     "name": "stdout",
     "output_type": "stream",
     "text": [
      "testing accuracy: 0.5908536523205998\n"
     ]
    }
   ],
   "source": [
    "print(\"testing accuracy:\",lr.score(xtest,ytest))"
   ]
  },
  {
   "cell_type": "code",
   "execution_count": null,
   "id": "ab25f9af-1c44-4f75-90e6-cd457b22c2d9",
   "metadata": {},
   "outputs": [],
   "source": []
  }
 ],
 "metadata": {
  "kernelspec": {
   "display_name": "Python 3 (ipykernel)",
   "language": "python",
   "name": "python3"
  },
  "language_info": {
   "codemirror_mode": {
    "name": "ipython",
    "version": 3
   },
   "file_extension": ".py",
   "mimetype": "text/x-python",
   "name": "python",
   "nbconvert_exporter": "python",
   "pygments_lexer": "ipython3",
   "version": "3.12.2"
  }
 },
 "nbformat": 4,
 "nbformat_minor": 5
}
